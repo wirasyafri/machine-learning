{
 "cells": [
  {
   "cell_type": "code",
   "execution_count": 50,
   "metadata": {
    "execution": {
     "iopub.execute_input": "2022-07-31T23:58:02.151185Z",
     "iopub.status.busy": "2022-07-31T23:58:02.149962Z",
     "iopub.status.idle": "2022-07-31T23:58:09.018104Z",
     "shell.execute_reply": "2022-07-31T23:58:09.017118Z",
     "shell.execute_reply.started": "2022-07-31T23:58:02.150375Z"
    }
   },
   "outputs": [],
   "source": [
    "import time\n",
    "import torch\n",
    "import torch.nn as nn\n",
    "import torchvision\n",
    "import torchvision.datasets as dset\n",
    "import torchvision.transforms as transforms\n",
    "from torch.autograd import Variable\n",
    "import torch.nn.functional as F\n",
    "import torch.optim as optim\n",
    "from sklearn.metrics import classification_report, confusion_matrix"
   ]
  },
  {
   "cell_type": "code",
   "execution_count": 51,
   "metadata": {},
   "outputs": [],
   "source": [
    "# transform  = transforms.ToTensor()\n",
    "trans_train = transforms.Compose([transforms.Lambda(lambda image: image.convert('RGB')),\n",
    "                                  transforms.ColorJitter(brightness=0.05, contrast=0.8, saturation=0.02, hue=0.02),\n",
    "                                  transforms.Resize((64,64)),\n",
    "                                  transforms.ToTensor(),\n",
    "                                  transforms.Normalize((0.5,), (1.0,))])\n",
    "\n",
    "trans = transforms.Compose([transforms.Lambda(lambda image: image.convert('RGB')),\n",
    "                            transforms.ColorJitter(brightness=0.05, contrast=0.8, saturation=0.02, hue=0.02),\n",
    "                            transforms.Resize((64,64)),\n",
    "                            transforms.ToTensor(),\n",
    "                            transforms.Normalize((0.5,), (1.0,))])\n",
    "\n",
    "\n",
    "train_data = dset.MNIST(root='../Data', train=True, download=True, transform=trans_train)\n",
    "test_data = dset.MNIST(root='../Data', train=False, download=False, transform=trans)"
   ]
  },
  {
   "cell_type": "code",
   "execution_count": 52,
   "metadata": {},
   "outputs": [
    {
     "name": "stdout",
     "output_type": "stream",
     "text": [
      "Dataset MNIST\n",
      "    Number of datapoints: 60000\n",
      "    Root location: ../Data\n",
      "    Split: Train\n",
      "    StandardTransform\n",
      "Transform: Compose(\n",
      "               Lambda()\n",
      "               ColorJitter(brightness=(0.95, 1.05), contrast=(0.19999999999999996, 1.8), saturation=(0.98, 1.02), hue=(-0.02, 0.02))\n",
      "               Resize(size=(64, 64), interpolation=bilinear, max_size=None, antialias=warn)\n",
      "               ToTensor()\n",
      "               Normalize(mean=(0.5,), std=(1.0,))\n",
      "           )\n",
      "torch.Size([3, 64, 64])\n",
      "3\n"
     ]
    }
   ],
   "source": [
    "print(train_data)\n",
    "image,label=train_data[10]\n",
    "print(image.shape)\n",
    "print(label)"
   ]
  },
  {
   "cell_type": "code",
   "execution_count": 53,
   "metadata": {},
   "outputs": [],
   "source": [
    "#loader data untuk training dan testing\n",
    "batch_size = 64\n",
    "train_loader = torch.utils.data.DataLoader(dataset=train_data,batch_size=batch_size,shuffle=True)\n",
    "test_loader = torch.utils.data.DataLoader(dataset=test_data,batch_size=batch_size,shuffle=False)"
   ]
  },
  {
   "cell_type": "code",
   "execution_count": 54,
   "metadata": {},
   "outputs": [],
   "source": [
    "class SimpleNet(nn.Module):\n",
    "    def __init__(self, num_classes):\n",
    "        super(SimpleNet, self).__init__()\n",
    "        #bagian 1\n",
    "        self.conv1 = nn.Conv2d(in_channels=3, out_channels=32, kernel_size=3)\n",
    "        self.bn1 = nn.BatchNorm2d(32)\n",
    "        self.relu1 = nn.ReLU(inplace=True)\n",
    "        self.max_poo1 = nn.MaxPool2d(kernel_size = 2, stride = 2)\n",
    "        self.conv2 = nn.Conv2d(in_channels=32, out_channels=32, kernel_size=3)\n",
    "        self.bn2 = nn.BatchNorm2d(32)\n",
    "        self.relu2 = nn.ReLU(inplace=True)\n",
    "        self.max_poo2 = nn.MaxPool2d(kernel_size = 2, stride = 2)\n",
    "        \n",
    "        # bagian 2\n",
    "        self.conv_layer3 = nn.Conv2d(in_channels=32, out_channels=64, kernel_size=3)\n",
    "        self.bn3 = nn.BatchNorm2d(64)\n",
    "        self.relu3 = nn.ReLU(inplace=True)\n",
    "        self.max_poo3 = nn.MaxPool2d(kernel_size = 2, stride = 2)\n",
    "        self.conv_layer4 = nn.Conv2d(in_channels=64, out_channels=64, kernel_size=3)\n",
    "        self.bn4 = nn.BatchNorm2d(64)\n",
    "        self.relu4 = nn.ReLU(inplace=True)\n",
    "        self.max_poo4 = nn.MaxPool2d(kernel_size = 2, stride = 2)\n",
    "        \n",
    "        #bagian classifier\n",
    "        self.fc1 = nn.Linear(256, 4096) \n",
    "        # self.relu5 = nn.ReLU(inplace=True)\n",
    "        self.dropout1 = nn.Dropout(p=0.1)\n",
    "        self.fc4 = nn.Linear(4096, num_classes)\n",
    "        self.classifier = nn.Softmax(dim=1)\n",
    "    \n",
    "    def forward(self, x):\n",
    "        out = self.conv1(x)\n",
    "        out = self.bn1(out)\n",
    "        out = self.relu1(out)\n",
    "        out = self.max_poo1(out)\n",
    "        out = self.conv2(out)\n",
    "        out = self.bn2(out)\n",
    "        out = self.relu2(out)\n",
    "        out = self.max_poo2(out)\n",
    "        \n",
    "        out = self.conv_layer3(out)\n",
    "        out = self.bn3(out)\n",
    "        out = self.relu3(out)\n",
    "        out = self.max_poo3(out)\n",
    "        out = self.conv_layer4(out)\n",
    "        out = self.bn4(out)\n",
    "        out = self.relu4(out)\n",
    "        out = self.max_poo4(out)\n",
    "                \n",
    "        out = out.view(out.size(0), -1) # mengubah dimensi tensor\n",
    "        \n",
    "        out = self.fc1(out)\n",
    "        # out = self.relu5(out)\n",
    "        out = self.dropout1(out)\n",
    "        out = self.fc4(out)\n",
    "        out = self.classifier(out)\n",
    "        return out"
   ]
  },
  {
   "cell_type": "code",
   "execution_count": 55,
   "metadata": {},
   "outputs": [
    {
     "data": {
      "text/plain": [
       "SimpleNet(\n",
       "  (conv1): Conv2d(3, 32, kernel_size=(3, 3), stride=(1, 1))\n",
       "  (bn1): BatchNorm2d(32, eps=1e-05, momentum=0.1, affine=True, track_running_stats=True)\n",
       "  (relu1): ReLU(inplace=True)\n",
       "  (max_poo1): MaxPool2d(kernel_size=2, stride=2, padding=0, dilation=1, ceil_mode=False)\n",
       "  (conv2): Conv2d(32, 32, kernel_size=(3, 3), stride=(1, 1))\n",
       "  (bn2): BatchNorm2d(32, eps=1e-05, momentum=0.1, affine=True, track_running_stats=True)\n",
       "  (relu2): ReLU(inplace=True)\n",
       "  (max_poo2): MaxPool2d(kernel_size=2, stride=2, padding=0, dilation=1, ceil_mode=False)\n",
       "  (conv_layer3): Conv2d(32, 64, kernel_size=(3, 3), stride=(1, 1))\n",
       "  (bn3): BatchNorm2d(64, eps=1e-05, momentum=0.1, affine=True, track_running_stats=True)\n",
       "  (relu3): ReLU(inplace=True)\n",
       "  (max_poo3): MaxPool2d(kernel_size=2, stride=2, padding=0, dilation=1, ceil_mode=False)\n",
       "  (conv_layer4): Conv2d(64, 64, kernel_size=(3, 3), stride=(1, 1))\n",
       "  (bn4): BatchNorm2d(64, eps=1e-05, momentum=0.1, affine=True, track_running_stats=True)\n",
       "  (relu4): ReLU(inplace=True)\n",
       "  (max_poo4): MaxPool2d(kernel_size=2, stride=2, padding=0, dilation=1, ceil_mode=False)\n",
       "  (fc1): Linear(in_features=256, out_features=4096, bias=True)\n",
       "  (dropout1): Dropout(p=0.1, inplace=False)\n",
       "  (fc4): Linear(in_features=4096, out_features=10, bias=True)\n",
       "  (classifier): Softmax(dim=1)\n",
       ")"
      ]
     },
     "execution_count": 55,
     "metadata": {},
     "output_type": "execute_result"
    }
   ],
   "source": [
    "model = SimpleNet(num_classes = 10)\n",
    "model"
   ]
  },
  {
   "cell_type": "code",
   "execution_count": 56,
   "metadata": {},
   "outputs": [],
   "source": [
    "def train(epoch):\n",
    "    model.train()\n",
    "    start_time = time.time()\n",
    "    correct = 0\n",
    "    for batch_idx, (data, target) in enumerate(train_loader):\n",
    "        # if torch.cpu.is_available():\n",
    "        #     data, target = data.cpu(), target.cpu()\n",
    "        data, target = Variable(data), Variable(target)\n",
    "        optimizer.zero_grad()\n",
    "        output = model(data)\n",
    "        loss = F.cross_entropy(output, target)\n",
    "        train_losses.append(loss.item())\n",
    "        loss.backward()\n",
    "        optimizer.step()\n",
    "        \n",
    "        # Menghitung jumlah prediksi yang benar\n",
    "        pred = output.data.max(1, keepdim=True)[1]\n",
    "        correct += pred.eq(target.data.view_as(pred)).cpu().sum()\n",
    "        \n",
    "        if batch_idx % 100 == 0:\n",
    "            print('\\rEpoch: {} {:.0f}%\\t     Loss: {:.6f}'.format(\n",
    "                epoch,\n",
    "                100. * batch_idx / len(train_loader), loss.item()), end='')\n",
    "    end_time = time.time()\n",
    "    print(\"\\nLama waktu Training pada epoch {}: {} Menit\".format(epoch, ((end_time - start_time)/60)))\n",
    "    \n",
    "    # Menghitung dan mencetak akurasi pelatihan\n",
    "    train_accuracy = 100. * correct / len(train_loader.dataset)\n",
    "    train_akurasi.append(train_accuracy)\n",
    "    print('Akurasi pada Training pada epoch {}: {:.2f}%'.format(epoch, train_accuracy))"
   ]
  },
  {
   "cell_type": "code",
   "execution_count": 57,
   "metadata": {},
   "outputs": [],
   "source": [
    "def test():\n",
    "    model.eval()\n",
    "    test_loss = 0\n",
    "    correct = 0\n",
    "    for data, target in test_loader:\n",
    "        # if torch.cpu.is_available():\n",
    "        #     data, target = data.cpu(), target.cpu()\n",
    "        data, target = Variable(data), Variable(target)\n",
    "        output = model(data)\n",
    "        test_loss += F.cross_entropy(output, target, reduction='sum').item()\n",
    "        pred = output.data.max(1, keepdim=True)[1] # get the index of the max log-probability\n",
    "        correct += pred.eq(target.data.view_as(pred)).long().cpu().sum()\n",
    "    \n",
    "    \n",
    "    test_loss /= len(test_loader.dataset)\n",
    "    test_losses.append(test_loss)\n",
    "    acc=100. * float(correct.to(torch.device('cpu')).numpy())\n",
    "    print('\\nHasil Testing: Rata-Rata loss: {:.4f}, Akurasi: {:.4f}%\\n'.format(\n",
    "        test_loss, acc / len(test_loader.dataset)))\n",
    "    \n",
    "    test_accuracy.append(acc / len(test_loader.dataset))"
   ]
  },
  {
   "cell_type": "code",
   "execution_count": 58,
   "metadata": {},
   "outputs": [
    {
     "name": "stdout",
     "output_type": "stream",
     "text": [
      "Epoch: 1 96%\t     Loss: 1.591911\n",
      "Lama waktu Training pada epoch 1: 4.317583632469177 Menit\n",
      "Akurasi pada Training pada epoch 1: 81.66%\n",
      "\n",
      "Hasil Testing: Rata-Rata loss: 1.5222, Akurasi: 96.6500%\n",
      "\n"
     ]
    }
   ],
   "source": [
    "optimizer = optim.SGD(model.parameters(), lr=0.01)\n",
    "\n",
    "train_losses = []\n",
    "test_losses =[]\n",
    "test_accuracy = []\n",
    "train_akurasi = []\n",
    "\n",
    "for epoch in range(1, 2):\n",
    "    train(epoch)\n",
    "    test()"
   ]
  },
  {
   "cell_type": "code",
   "execution_count": 61,
   "metadata": {},
   "outputs": [
    {
     "name": "stdout",
     "output_type": "stream",
     "text": [
      "Confusion Matrix:\n",
      "[[ 963    0    7    0    0    2    7    1    0    0]\n",
      " [   0 1125    5    1    0    1    2    1    0    0]\n",
      " [   6    2  987    1   10    0    7   18    1    0]\n",
      " [   1    1   18  971    0    4    1   10    1    3]\n",
      " [   1    3    1    0  964    0    6    0    0    7]\n",
      " [   5    5    1   12    1  858    6    1    3    0]\n",
      " [   9    5    0    0    3    3  938    0    0    0]\n",
      " [   0    3   29    1    0    1    0  990    0    4]\n",
      " [   8    3   17    3    5    6    6    8  912    6]\n",
      " [   9    8    5    3    8    5    0   10    2  959]]\n"
     ]
    }
   ],
   "source": [
    "# membuat prediksi dan ground truth labels\n",
    "y_pred = []\n",
    "y_true = []\n",
    "for data, target in test_loader:\n",
    "    data, target = Variable(data), Variable(target)\n",
    "    output = model(data)\n",
    "    pred = output.data.max(1, keepdim=True)[1].cpu().numpy().squeeze()\n",
    "    y_pred.extend(pred)\n",
    "    y_true.extend(target.data.cpu().numpy())\n",
    "\n",
    "# membuat confusion matrix dan classification report\n",
    "conf_mat = confusion_matrix(y_true, y_pred)\n",
    "class_report = classification_report(y_true, y_pred)\n",
    "\n",
    "print('Confusion Matrix:')\n",
    "print(conf_mat)"
   ]
  },
  {
   "cell_type": "code",
   "execution_count": 60,
   "metadata": {},
   "outputs": [
    {
     "name": "stdout",
     "output_type": "stream",
     "text": [
      "Classification Report:\n",
      "              precision    recall  f1-score   support\n",
      "\n",
      "           0       0.96      0.99      0.97       980\n",
      "           1       0.98      0.99      0.98      1135\n",
      "           2       0.92      0.95      0.94      1032\n",
      "           3       0.98      0.96      0.97      1010\n",
      "           4       0.97      0.98      0.98       982\n",
      "           5       0.98      0.97      0.97       892\n",
      "           6       0.97      0.98      0.98       958\n",
      "           7       0.95      0.96      0.96      1028\n",
      "           8       0.99      0.94      0.96       974\n",
      "           9       0.98      0.95      0.96      1009\n",
      "\n",
      "    accuracy                           0.97     10000\n",
      "   macro avg       0.97      0.97      0.97     10000\n",
      "weighted avg       0.97      0.97      0.97     10000\n",
      "\n"
     ]
    }
   ],
   "source": [
    "print('Classification Report:')\n",
    "print(class_report)"
   ]
  }
 ],
 "metadata": {
  "kernelspec": {
   "display_name": "Python 3",
   "language": "python",
   "name": "python3"
  },
  "language_info": {
   "codemirror_mode": {
    "name": "ipython",
    "version": 3
   },
   "file_extension": ".py",
   "mimetype": "text/x-python",
   "name": "python",
   "nbconvert_exporter": "python",
   "pygments_lexer": "ipython3",
   "version": "3.10.7"
  },
  "vscode": {
   "interpreter": {
    "hash": "c47fb7ed95f6732d639c1189bde5c23f4a75901d66a8ef23c35b44c1020911a6"
   }
  }
 },
 "nbformat": 4,
 "nbformat_minor": 4
}
