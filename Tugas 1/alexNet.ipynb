{
 "cells": [
  {
   "cell_type": "code",
   "execution_count": 36,
   "metadata": {
    "execution": {
     "iopub.execute_input": "2022-07-31T23:58:02.151185Z",
     "iopub.status.busy": "2022-07-31T23:58:02.149962Z",
     "iopub.status.idle": "2022-07-31T23:58:09.018104Z",
     "shell.execute_reply": "2022-07-31T23:58:09.017118Z",
     "shell.execute_reply.started": "2022-07-31T23:58:02.150375Z"
    }
   },
   "outputs": [],
   "source": [
    "import time\n",
    "import torch\n",
    "import torch.nn as nn\n",
    "import torchvision\n",
    "import torchvision.datasets as dset\n",
    "import torchvision.transforms as transforms\n",
    "from torch.autograd import Variable\n",
    "import torch.nn.functional as F\n",
    "import torch.optim as optim\n",
    "import matplotlib.pyplot as plt\n",
    "from sklearn.metrics import classification_report, confusion_matrix\n",
    "from knockknock import discord_sender\n"
   ]
  },
  {
   "cell_type": "code",
   "execution_count": 37,
   "metadata": {},
   "outputs": [],
   "source": [
    "# transform  = transforms.ToTensor()\n",
    "trans_train = transforms.Compose([transforms.Lambda(lambda image: image.convert('RGB')),\n",
    "                                  transforms.ColorJitter(brightness=0.05, contrast=0.8, saturation=0.02, hue=0.02),\n",
    "                                  transforms.Resize((64,64)),\n",
    "                                  transforms.ToTensor(),\n",
    "                                  transforms.Normalize((0.5,), (1.0,))])\n",
    "\n",
    "trans = transforms.Compose([transforms.Lambda(lambda image: image.convert('RGB')),\n",
    "                            transforms.ColorJitter(brightness=0.05, contrast=0.8, saturation=0.02, hue=0.02),\n",
    "                            transforms.Resize((64,64)),\n",
    "                            transforms.ToTensor(),\n",
    "                            transforms.Normalize((0.5,), (1.0,))])\n",
    "\n",
    "\n",
    "train_data = dset.MNIST(root='../Data', train=True, download=True, transform=trans_train)\n",
    "test_data = dset.MNIST(root='../Data', train=False, download=False, transform=trans)"
   ]
  },
  {
   "cell_type": "code",
   "execution_count": 38,
   "metadata": {},
   "outputs": [
    {
     "name": "stdout",
     "output_type": "stream",
     "text": [
      "Dataset MNIST\n",
      "    Number of datapoints: 60000\n",
      "    Root location: ../Data\n",
      "    Split: Train\n",
      "    StandardTransform\n",
      "Transform: Compose(\n",
      "               Lambda()\n",
      "               ColorJitter(brightness=(0.95, 1.05), contrast=(0.19999999999999996, 1.8), saturation=(0.98, 1.02), hue=(-0.02, 0.02))\n",
      "               Resize(size=(64, 64), interpolation=bilinear, max_size=None, antialias=warn)\n",
      "               ToTensor()\n",
      "               Normalize(mean=(0.5,), std=(1.0,))\n",
      "           )\n",
      "torch.Size([3, 64, 64])\n",
      "3\n"
     ]
    }
   ],
   "source": [
    "print(train_data)\n",
    "image,label=train_data[10]\n",
    "print(image.shape)\n",
    "print(label)"
   ]
  },
  {
   "cell_type": "code",
   "execution_count": 39,
   "metadata": {},
   "outputs": [],
   "source": [
    "#loader data untuk training dan testing\n",
    "batch_size = 64\n",
    "train_loader = torch.utils.data.DataLoader(dataset=train_data,batch_size=batch_size,shuffle=True)\n",
    "test_loader = torch.utils.data.DataLoader(dataset=test_data,batch_size=batch_size,shuffle=False)"
   ]
  },
  {
   "cell_type": "code",
   "execution_count": 46,
   "metadata": {},
   "outputs": [
    {
     "data": {
      "text/plain": [
       "AlexNet(\n",
       "  (features): Sequential(\n",
       "    (0): Conv2d(3, 64, kernel_size=(11, 11), stride=(4, 4), padding=(2, 2))\n",
       "    (1): ReLU(inplace=True)\n",
       "    (2): MaxPool2d(kernel_size=3, stride=2, padding=0, dilation=1, ceil_mode=False)\n",
       "    (3): Conv2d(64, 192, kernel_size=(5, 5), stride=(1, 1), padding=(2, 2))\n",
       "    (4): ReLU(inplace=True)\n",
       "    (5): MaxPool2d(kernel_size=3, stride=2, padding=0, dilation=1, ceil_mode=False)\n",
       "    (6): Conv2d(192, 384, kernel_size=(3, 3), stride=(1, 1), padding=(1, 1))\n",
       "    (7): ReLU(inplace=True)\n",
       "    (8): Conv2d(384, 256, kernel_size=(3, 3), stride=(1, 1), padding=(1, 1))\n",
       "    (9): ReLU(inplace=True)\n",
       "    (10): Conv2d(256, 256, kernel_size=(3, 3), stride=(1, 1), padding=(1, 1))\n",
       "    (11): ReLU(inplace=True)\n",
       "    (12): MaxPool2d(kernel_size=3, stride=2, padding=0, dilation=1, ceil_mode=False)\n",
       "  )\n",
       "  (avgpool): AdaptiveAvgPool2d(output_size=(6, 6))\n",
       "  (classifier): Sequential(\n",
       "    (0): Dropout(p=0.5, inplace=False)\n",
       "    (1): Linear(in_features=9216, out_features=4096, bias=True)\n",
       "    (2): ReLU(inplace=True)\n",
       "    (3): Dropout(p=0.5, inplace=False)\n",
       "    (4): Linear(in_features=4096, out_features=4096, bias=True)\n",
       "    (5): ReLU(inplace=True)\n",
       "    (6): Linear(in_features=4096, out_features=10, bias=True)\n",
       "    (7): Softmax(dim=1)\n",
       "  )\n",
       ")"
      ]
     },
     "execution_count": 46,
     "metadata": {},
     "output_type": "execute_result"
    }
   ],
   "source": [
    "#inisialisasi Model AlexNet\n",
    "Fitur = 10\n",
    "\n",
    "model1 = torchvision.models.alexnet(weights='AlexNet_Weights.DEFAULT')\n",
    "model1.classifier.add_module('6', nn.Linear(in_features=4096, out_features=Fitur))\n",
    "model1.classifier.add_module('7', nn.Softmax(dim=1))\n",
    "model = model1\n",
    "model"
   ]
  },
  {
   "cell_type": "code",
   "execution_count": 47,
   "metadata": {},
   "outputs": [],
   "source": [
    "webhook_url = \"https://discord.com/api/webhooks/1088968946532753459/2WxkgzpEHHQ0zqT9crQqpGU70896Sl_cibrakOyRe302ES2Fp8FNSjsw0FoqNAM2ro3r\"\n",
    "\n",
    "@discord_sender(webhook_url = webhook_url)\n",
    "def train(epoch):\n",
    "    model.train()\n",
    "    start_time = time.time()\n",
    "    correct = 0\n",
    "    for batch_idx, (data, target) in enumerate(train_loader):\n",
    "        # if torch.cpu.is_available():\n",
    "        #     data, target = data.cpu(), target.cpu()\n",
    "        data, target = Variable(data), Variable(target)\n",
    "        optimizer.zero_grad()\n",
    "        output = model(data)\n",
    "        loss = F.cross_entropy(output, target)\n",
    "        train_losses.append(loss.item())\n",
    "        loss.backward()\n",
    "        optimizer.step()\n",
    "        \n",
    "        # Menghitung jumlah prediksi yang benar\n",
    "        pred = output.data.max(1, keepdim=True)[1]\n",
    "        correct += pred.eq(target.data.view_as(pred)).cpu().sum()\n",
    "        \n",
    "        if batch_idx % 100 == 0:\n",
    "            print('\\rEpoch: {} {:.0f}%\\t     Loss: {:.6f}'.format(\n",
    "                epoch,\n",
    "                100. * batch_idx / len(train_loader), loss.item()), end='')\n",
    "    end_time = time.time()\n",
    "    print(\"\\nLama waktu Training pada epoch {}: {} Menit\".format(epoch, ((end_time - start_time)/60)))\n",
    "    \n",
    "    # Menghitung dan mencetak akurasi pelatihan\n",
    "    train_accuracy = 100. * correct / len(train_loader.dataset)\n",
    "    train_akurasi.append(train_accuracy)\n",
    "    print('Akurasi pada Training pada epoch {}: {:.2f}%'.format(epoch, train_accuracy))"
   ]
  },
  {
   "cell_type": "code",
   "execution_count": 48,
   "metadata": {},
   "outputs": [],
   "source": [
    "def test():\n",
    "    model.eval()\n",
    "    test_loss = 0\n",
    "    correct = 0\n",
    "    for data, target in test_loader:\n",
    "        # if torch.cpu.is_available():\n",
    "        #     data, target = data.cpu(), target.cpu()\n",
    "        data, target = Variable(data), Variable(target)\n",
    "        output = model(data)\n",
    "        test_loss += F.cross_entropy(output, target, reduction='sum').item()\n",
    "        pred = output.data.max(1, keepdim=True)[1] # get the index of the max log-probability\n",
    "        correct += pred.eq(target.data.view_as(pred)).long().cpu().sum()\n",
    "    \n",
    "    \n",
    "    test_loss /= len(test_loader.dataset)\n",
    "    test_losses.append(test_loss)\n",
    "    acc=100. * float(correct.to(torch.device('cpu')).numpy())\n",
    "    print('\\nHasil Testing: Rata-Rata loss: {:.4f}, Akurasi: {:.4f}%\\n'.format(\n",
    "        test_loss, acc / len(test_loader.dataset)))\n",
    "    \n",
    "    test_accuracy.append(acc / len(test_loader.dataset))"
   ]
  },
  {
   "cell_type": "code",
   "execution_count": 49,
   "metadata": {},
   "outputs": [
    {
     "name": "stdout",
     "output_type": "stream",
     "text": [
      "Epoch: 1 96%\t     Loss: 1.483884\n",
      "Lama waktu Training pada epoch 1: 7.372456188996633 Menit\n",
      "Akurasi pada Training pada epoch 1: 89.77%\n",
      "\n",
      "Hasil Testing: Rata-Rata loss: 1.4860, Akurasi: 97.6300%\n",
      "\n"
     ]
    }
   ],
   "source": [
    "optimizer = optim.SGD(model.parameters(), lr=0.01)\n",
    "\n",
    "\n",
    "train_losses = []\n",
    "test_losses =[]\n",
    "test_accuracy = []\n",
    "train_akurasi = []\n",
    "\n",
    "for epoch in range(1, 2):\n",
    "    train(epoch)\n",
    "    test()"
   ]
  },
  {
   "cell_type": "code",
   "execution_count": 50,
   "metadata": {},
   "outputs": [
    {
     "name": "stdout",
     "output_type": "stream",
     "text": [
      "Confusion Matrix:\n",
      "[[ 974    0    3    0    0    0    1    1    0    1]\n",
      " [   0 1121    3    3    2    0    2    4    0    0]\n",
      " [   4    1 1018    3    1    0    0    4    1    0]\n",
      " [   0    0    9  992    0    1    0    3    5    0]\n",
      " [   0    0    0    0  971    0    0    1    2    8]\n",
      " [   2    0    1   18    1  845    4    3   16    2]\n",
      " [   7    1    2    1    5    2  927    0   13    0]\n",
      " [   0    1    9    1    2    0    0 1009    3    3]\n",
      " [   4    0    8    7    3    1    0    4  933   14]\n",
      " [   4    2    2    4    8    0    0   12    8  969]]\n"
     ]
    }
   ],
   "source": [
    "# membuat prediksi dan ground truth labels\n",
    "y_pred = []\n",
    "y_true = []\n",
    "for data, target in test_loader:\n",
    "    data, target = Variable(data), Variable(target)\n",
    "    output = model(data)\n",
    "    pred = output.data.max(1, keepdim=True)[1].cpu().numpy().squeeze()\n",
    "    y_pred.extend(pred)\n",
    "    y_true.extend(target.data.cpu().numpy())\n",
    "\n",
    "# membuat confusion matrix dan classification report\n",
    "conf_mat = confusion_matrix(y_true, y_pred)\n",
    "class_report = classification_report(y_true, y_pred)\n",
    "\n",
    "print('Confusion Matrix:')\n",
    "print(conf_mat)"
   ]
  },
  {
   "cell_type": "code",
   "execution_count": 51,
   "metadata": {},
   "outputs": [
    {
     "name": "stdout",
     "output_type": "stream",
     "text": [
      "Classification Report:\n",
      "              precision    recall  f1-score   support\n",
      "\n",
      "           0       0.98      0.99      0.99       980\n",
      "           1       1.00      0.99      0.99      1135\n",
      "           2       0.96      0.99      0.98      1032\n",
      "           3       0.96      0.98      0.97      1010\n",
      "           4       0.98      0.99      0.98       982\n",
      "           5       1.00      0.95      0.97       892\n",
      "           6       0.99      0.97      0.98       958\n",
      "           7       0.97      0.98      0.98      1028\n",
      "           8       0.95      0.96      0.95       974\n",
      "           9       0.97      0.96      0.97      1009\n",
      "\n",
      "    accuracy                           0.98     10000\n",
      "   macro avg       0.98      0.98      0.98     10000\n",
      "weighted avg       0.98      0.98      0.98     10000\n",
      "\n"
     ]
    }
   ],
   "source": [
    "print('Classification Report:')\n",
    "print(class_report)"
   ]
  }
 ],
 "metadata": {
  "kernelspec": {
   "display_name": "Python 3",
   "language": "python",
   "name": "python3"
  },
  "language_info": {
   "codemirror_mode": {
    "name": "ipython",
    "version": 3
   },
   "file_extension": ".py",
   "mimetype": "text/x-python",
   "name": "python",
   "nbconvert_exporter": "python",
   "pygments_lexer": "ipython3",
   "version": "3.10.7"
  },
  "vscode": {
   "interpreter": {
    "hash": "c47fb7ed95f6732d639c1189bde5c23f4a75901d66a8ef23c35b44c1020911a6"
   }
  }
 },
 "nbformat": 4,
 "nbformat_minor": 4
}
